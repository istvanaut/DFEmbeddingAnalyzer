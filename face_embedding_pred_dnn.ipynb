{
  "nbformat": 4,
  "nbformat_minor": 0,
  "metadata": {
    "colab": {
      "name": "face_embedding_pred_dnn",
      "provenance": [],
      "collapsed_sections": [],
      "mount_file_id": "1zjhhKMPupBDAzpA5NU3R893yDIe4zILs",
      "authorship_tag": "ABX9TyN0XVVcdR442lyIkJI4pOKQ",
      "include_colab_link": true
    },
    "kernelspec": {
      "name": "python3",
      "display_name": "Python 3"
    }
  },
  "cells": [
    {
      "cell_type": "markdown",
      "metadata": {
        "id": "view-in-github",
        "colab_type": "text"
      },
      "source": [
        "<a href=\"https://colab.research.google.com/github/istvanaut/DFEmbeddingAnalyzer/blob/master/face_embedding_pred_dnn.ipynb\" target=\"_parent\"><img src=\"https://colab.research.google.com/assets/colab-badge.svg\" alt=\"Open In Colab\"/></a>"
      ]
    },
    {
      "cell_type": "code",
      "metadata": {
        "id": "56HEswTRQgAM",
        "colab_type": "code",
        "colab": {}
      },
      "source": [
        "import matplotlib.pyplot as plt\n",
        "import seaborn as sns\n",
        "import numpy as np\n",
        "from torchvision import datasets\n",
        "import torch\n",
        "import torch.nn as nn\n",
        "import torch.optim as optim\n",
        "import pickle"
      ],
      "execution_count": 3,
      "outputs": []
    },
    {
      "cell_type": "code",
      "metadata": {
        "id": "tGmwXihYRFtv",
        "colab_type": "code",
        "colab": {}
      },
      "source": [
        "X_train = pickle.load(open(\"/content/drive/My Drive/Colab Notebooks/Snippets/Sex_SVC_x_train.pickle\",\"br\")).to_numpy()\n",
        "y_train = pickle.load(open(\"/content/drive/My Drive/Colab Notebooks/Snippets/Sex_SVC_y_train.pickle\",\"br\")).to_numpy()\n",
        "\n",
        "X_test = pickle.load(open(\"/content/drive/My Drive/Colab Notebooks/Snippets/Sex_SVC_x_test.pickle\",\"br\")).to_numpy()\n",
        "y_test = pickle.load(open(\"/content/drive/My Drive/Colab Notebooks/Snippets/Sex_SVC_y_test.pickle\",\"br\")).to_numpy()\n"
      ],
      "execution_count": 18,
      "outputs": []
    },
    {
      "cell_type": "code",
      "metadata": {
        "id": "RVvgORGuRm-J",
        "colab_type": "code",
        "colab": {
          "base_uri": "https://localhost:8080/",
          "height": 34
        },
        "outputId": "28948176-f06b-40bf-c711-a06865448af7"
      },
      "source": [
        "len(y_test)"
      ],
      "execution_count": 36,
      "outputs": [
        {
          "output_type": "execute_result",
          "data": {
            "text/plain": [
              "2343"
            ]
          },
          "metadata": {
            "tags": []
          },
          "execution_count": 36
        }
      ]
    }
  ]
}